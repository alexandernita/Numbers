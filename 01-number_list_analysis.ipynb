{
 "cells": [
  {
   "cell_type": "markdown",
   "id": "3d9df922",
   "metadata": {},
   "source": [
    "# Sort a List of 100 Numbers by Divisibility, Check Multiplicity, and Extract Summary Statistics\n",
    "\n",
    "In this notebook, we manipulate in various ways a list of 100 natural numbers that I pulled off the internet. There is no significance to the numbers, I just wanted to test out various tricks, such as \n",
    "\n",
    "1. counting their multiplicities \n",
    "2. using modular arithmetic to separate evens from odds, and list those divisible by 3, or divisible by 5\n",
    "3. sorting them by hand\n",
    "4. treating them as a sample and finding summary statistics (min, max, mean, 1st-3rd quartiles, and standard deviation)\n",
    "\n",
    "We attempt point 4 in two different ways:  directly using NumPy + formatting the printout, and using the .describe() function in Pandas."
   ]
  },
  {
   "cell_type": "markdown",
   "id": "31ae009b",
   "metadata": {},
   "source": [
    "## Import Libraries"
   ]
  },
  {
   "cell_type": "code",
   "execution_count": 1,
   "id": "0df1e742",
   "metadata": {},
   "outputs": [],
   "source": [
    "import numpy as np\n",
    "import math\n",
    "import pandas as pd"
   ]
  },
  {
   "cell_type": "markdown",
   "id": "dda63755",
   "metadata": {},
   "source": [
    "## The Data: a List of 100 Numbers"
   ]
  },
  {
   "cell_type": "markdown",
   "id": "3862b2d6",
   "metadata": {},
   "source": [
    "Here's the number list we will manipulate below.  I couldn't think of a better name for it than \"numbers\"."
   ]
  },
  {
   "cell_type": "code",
   "execution_count": 2,
   "id": "1dbb97ed",
   "metadata": {},
   "outputs": [],
   "source": [
    "numbers = [951, 402, 984, 651, 360, 69, 408, 319, 601, 485, 980,\n",
    "           507, 725, 547, 544, 615, 83, 165, 141, 501, 263, 617,\n",
    "           865, 575, 219, 390, 984, 592, 236, 105, 942, 941, 386,\n",
    "           462, 47, 418, 907, 344, 236, 375, 823, 566, 597, 978,\n",
    "           328, 615, 953, 345, 399, 162, 758, 219, 918, 237, 412,\n",
    "           566, 826, 248, 866, 950, 626, 949, 687, 217, 815, 67,\n",
    "           104, 58, 512, 24, 892, 894, 767, 553, 81, 379, 843, 831,\n",
    "           445, 742, 717, 958, 609, 842, 451, 688, 753, 854, 685, 93,\n",
    "           857, 440, 380, 126, 721, 328, 753, 470, 743, 527]"
   ]
  },
  {
   "cell_type": "markdown",
   "id": "2d5b31ba",
   "metadata": {},
   "source": [
    "# Output Formatting\n",
    "\n",
    "We first define a **printout formatting function**, ```print_rows()```, to display all rows evenly, with uniform length 10, each cell having width 4 digits.  For later purpose, I also define another function with length 23 rows to format a longer example list below."
   ]
  },
  {
   "cell_type": "code",
   "execution_count": 3,
   "id": "d35b8f8e",
   "metadata": {},
   "outputs": [],
   "source": [
    "def print_rows(x,modulus=10):\n",
    "    for i,a in enumerate(x,start=1):\n",
    "        print(f\"{a: <4} \", end=\"\")\n",
    "        if i % modulus == 0:\n",
    "            print()\n",
    "    print()\n",
    "\n",
    "def print_rows2(x,modulus=23):\n",
    "    for i,a in enumerate(x,start=1):\n",
    "        print(f\"{a: <3} \", end=\"\")\n",
    "        if i % modulus == 0:\n",
    "            print()\n",
    "    print()"
   ]
  },
  {
   "cell_type": "markdown",
   "id": "7236f406",
   "metadata": {},
   "source": [
    "Test this format function out on the \"numbers\" list."
   ]
  },
  {
   "cell_type": "code",
   "execution_count": 4,
   "id": "bab7eb94",
   "metadata": {},
   "outputs": [
    {
     "name": "stdout",
     "output_type": "stream",
     "text": [
      "\n",
      "   Consider the Following List of 100 Numbers   \n",
      "------------------------------------------------\n",
      "951  402  984  651  360  69   408  319  601  485  \n",
      "980  507  725  547  544  615  83   165  141  501  \n",
      "263  617  865  575  219  390  984  592  236  105  \n",
      "942  941  386  462  47   418  907  344  236  375  \n",
      "823  566  597  978  328  615  953  345  399  162  \n",
      "758  219  918  237  412  566  826  248  866  950  \n",
      "626  949  687  217  815  67   104  58   512  24   \n",
      "892  894  767  553  81   379  843  831  445  742  \n",
      "717  958  609  842  451  688  753  854  685  93   \n",
      "857  440  380  126  721  328  753  470  743  527  \n",
      "\n"
     ]
    }
   ],
   "source": [
    "print()\n",
    "print('{:^48s}'.format(\"Consider the Following List of 100 Numbers\"))\n",
    "print(\"------------------------------------------------\")\n",
    "\n",
    "print_rows(numbers)"
   ]
  },
  {
   "cell_type": "markdown",
   "id": "dfb18939",
   "metadata": {},
   "source": [
    "## Task 1:  Sort Evens from Odds\n",
    "\n",
    "Our first task is to separate **evens** from **odds** in our \"numbers\" list using the % operator."
   ]
  },
  {
   "cell_type": "code",
   "execution_count": 5,
   "id": "65cbb17a",
   "metadata": {},
   "outputs": [],
   "source": [
    "# evens\n",
    "#######\n",
    "evens = []\n",
    "\n",
    "for i in range(len(numbers)):\n",
    "    if numbers[i] % 2 == 0:\n",
    "        evens.append(numbers[i])\n",
    "\n",
    "# odds\n",
    "#######\n",
    "odds = []\n",
    "\n",
    "for i in range(len(numbers)):\n",
    "    if numbers[i] % 2 == 1:\n",
    "        odds.append(numbers[i])"
   ]
  },
  {
   "cell_type": "markdown",
   "id": "3e94eb68",
   "metadata": {},
   "source": [
    "Printout the evens and odds using our print_rows() function."
   ]
  },
  {
   "cell_type": "code",
   "execution_count": 6,
   "id": "9a1579f0",
   "metadata": {},
   "outputs": [
    {
     "name": "stdout",
     "output_type": "stream",
     "text": [
      "\n",
      "          We Separate Out the 45 Evens          \n",
      "------------------------------------------------\n",
      "402  984  360  408  980  544  390  984  592  236  \n",
      "942  386  462  418  344  236  566  978  328  162  \n",
      "758  918  412  566  826  248  866  950  626  104  \n",
      "58   512  24   892  894  742  958  842  688  854  \n",
      "440  380  126  328  470  \n",
      "\n",
      "                From the 55 Odds                \n",
      "------------------------------------------------\n",
      "951  651  69   319  601  485  507  725  547  615  \n",
      "83   165  141  501  263  617  865  575  219  105  \n",
      "941  47   907  375  823  597  615  953  345  399  \n",
      "219  237  949  687  217  815  67   767  553  81   \n",
      "379  843  831  445  717  609  451  753  685  93   \n",
      "857  721  753  743  527  \n"
     ]
    }
   ],
   "source": [
    "n1 = len(evens)\n",
    "n2 = len(odds)\n",
    "\n",
    "# print evens and odds in this format\n",
    "#####################################\n",
    "text1 = \"We Separate Out the {0} Evens\".format(n1)\n",
    "print()\n",
    "print('{:^48s}'.format(text1))\n",
    "print(\"------------------------------------------------\")\n",
    "\n",
    "print_rows(evens)\n",
    "\n",
    "text2 = \"From the {0} Odds\".format(n2)\n",
    "print()\n",
    "print('{:^48s}'.format(text2))\n",
    "print(\"------------------------------------------------\")\n",
    "\n",
    "print_rows(odds)"
   ]
  },
  {
   "cell_type": "markdown",
   "id": "d4affcdb",
   "metadata": {},
   "source": [
    "## Task 2: Sift Out All Numbers Divisible by 3, then All Divisible by 5\n",
    "\n",
    "We generate two more sub-lists by the same methods, the numbers **divisible by 3** and the numbers **divisible by 5**, giving us a total of **5 lists**\n",
    "1. all\n",
    "2. evens\n",
    "3. odds\n",
    "4. $3|n$\n",
    "5. $5|n$\n",
    "\n",
    "which we will then treat as **five datasets** in order to extract summary statistics and format their display in columns.  "
   ]
  },
  {
   "cell_type": "code",
   "execution_count": 7,
   "id": "beab904b",
   "metadata": {},
   "outputs": [
    {
     "name": "stdout",
     "output_type": "stream",
     "text": [
      "\n",
      "        There are Also 40 Divisible by 3        \n",
      "------------------------------------------------\n",
      "951  402  984  651  360  69   408  507  615  165  \n",
      "141  501  219  390  984  105  942  462  375  597  \n",
      "978  615  345  399  162  219  918  237  687  24   \n",
      "894  81   843  831  717  609  753  93   126  753  \n",
      "\n"
     ]
    }
   ],
   "source": [
    "# divisible by 3\n",
    "################\n",
    "div_by_three = []\n",
    "\n",
    "for i in range(len(numbers)):\n",
    "     if numbers[i] % 3 == 0:\n",
    "         div_by_three.append(numbers[i])\n",
    "\n",
    "n3 = len(div_by_three)\n",
    "text3 = \"There are Also {0} Divisible by 3\".format(n3)\n",
    "\n",
    "print()\n",
    "print('{:^48s}'.format(text3))\n",
    "print(\"------------------------------------------------\")\n",
    "\n",
    "print_rows(div_by_three)"
   ]
  },
  {
   "cell_type": "markdown",
   "id": "28a33558",
   "metadata": {},
   "source": [
    "...and those **divisible by 5**"
   ]
  },
  {
   "cell_type": "code",
   "execution_count": 8,
   "id": "8a04a0a9",
   "metadata": {},
   "outputs": [
    {
     "name": "stdout",
     "output_type": "stream",
     "text": [
      "\n",
      "        And there are 20 Divisible by 5         \n",
      "------------------------------------------------\n",
      "360  485  980  725  615  165  865  575  390  105  \n",
      "375  615  345  950  815  445  685  440  380  470  \n",
      "\n"
     ]
    }
   ],
   "source": [
    "# divisible by 5\n",
    "################\n",
    "div_by_five = []\n",
    "\n",
    "for i in range(len(numbers)):\n",
    "     if numbers[i] % 5 == 0:   \n",
    "         div_by_five.append(numbers[i])\n",
    "\n",
    "n4 = len(div_by_five)\n",
    "text4 = \"And there are {0} Divisible by 5\".format(n4)\n",
    "\n",
    "print()\n",
    "print('{:^48s}'.format(text4))\n",
    "print(\"------------------------------------------------\")\n",
    "\n",
    "print_rows(div_by_five)"
   ]
  },
  {
   "cell_type": "markdown",
   "id": "d2c90c85",
   "metadata": {},
   "source": [
    "## Task 3: Sort the Original List of Numbers by Hand\n",
    "\n",
    "There is a python **sort function**, ```sorted()```, for lists, but I preferred to **sort them myself** to understand how such an algorithm works.  The standard sorting algorithm uses two simple nested for loops, which on each pass (the outer for loop) swaps any adjacent pairs ..., n, m,... in the list satisfying n > m, as the index runs from 0 to the penultimate (inner loop).  In my case I swap when n > m, since I'm sorting them in increasing order, but if we wanted decreasing order, we'd swap when n < m.  The outer loop runs the passes, and the inner loop swaps adjacents.  For example,  \n",
    "\n",
    "start A = [12, 7, 9, 1, 5]      (swap 12 and 7)\\\n",
    "--->   A = [7, 12, 9, 1, 5]      (swap 12 and 9)\\\n",
    "--->   A = [7, 9, 12, 1, 5]      (swap 12 and 1)\\\n",
    "--->   A = [7, 9, 1, 12, 5]      (swap 12 and 5, end pass 1)\\\n",
    "--->   A = [7, 9, 1, 5, 12]      (begin pass 2, swap 9 and 1)\\\n",
    "--->   A = [7, 1, 9, 5, 12]      (swap 9 and 5, end pass 2)\\\n",
    "--->   A = [7, 1, 5, 9, 12]      (begin pass 3, swap 1 and 7)\\\n",
    "--->   A = [1, 7, 5, 9, 12]      (swap 7 and 5, end pass 3)\\\n",
    "--->   A = [1, 5, 7, 9, 12]      A is sorted\n",
    "\n",
    "Three passes finishes the job.  In fact, 5 passes is the maximum required for a length 5 list, with 4 = 5 - 1 length sub-loops each. "
   ]
  },
  {
   "cell_type": "code",
   "execution_count": 9,
   "id": "087e0f4d",
   "metadata": {},
   "outputs": [
    {
     "name": "stdout",
     "output_type": "stream",
     "text": [
      "\n",
      "     The Sorted Numbers in Increasing Order     \n",
      "------------------------------------------------\n",
      "24   47   58   67   69   81   83   93   104  105  \n",
      "126  141  162  165  217  219  219  236  236  237  \n",
      "248  263  319  328  328  344  345  360  375  379  \n",
      "380  386  390  399  402  408  412  418  440  445  \n",
      "451  462  470  485  501  507  512  527  544  547  \n",
      "553  566  566  575  592  597  601  609  615  615  \n",
      "617  626  651  685  687  688  717  721  725  742  \n",
      "743  753  753  758  767  815  823  826  831  842  \n",
      "843  854  857  865  866  892  894  907  918  941  \n",
      "942  949  950  951  953  958  978  980  984  984  \n",
      "\n"
     ]
    }
   ],
   "source": [
    "# sorted numbers\n",
    "####################\n",
    "\n",
    "snumbers = numbers.copy()\n",
    "\n",
    "for i in range(len(snumbers)):          # n passes\n",
    "    for j in range(len(numbers)-1):     # swap adjacents only on each pass\n",
    "        if snumbers[j] > snumbers[j+1]:\n",
    "            snumbers[j], snumbers[j+1] = snumbers[j+1], snumbers[j]\n",
    "\n",
    "text9 = \"The Sorted Numbers in Increasing Order\"\n",
    "print()\n",
    "print('{:^48s}'.format(text9))\n",
    "print(\"------------------------------------------------\")\n",
    "\n",
    "print_rows(snumbers)"
   ]
  },
  {
   "cell_type": "markdown",
   "id": "32e63608",
   "metadata": {},
   "source": [
    "## Task 4:  Count Multiplicities in the List of Numbers\n",
    "\n",
    "Nice! Well, that was easy.  Let's now take a short detour into **counting the multiplicities** of our \"numbers\" before we go on to treat their statistical properties.  Since that list happens to be poverty-stricken for multiples, so we'll concoct another list for the job and try our hand at *that* list."
   ]
  },
  {
   "cell_type": "code",
   "execution_count": 10,
   "id": "2d350cdb",
   "metadata": {},
   "outputs": [
    {
     "name": "stdout",
     "output_type": "stream",
     "text": [
      "\n",
      "       Some Numbers Occur Multiple Times        \n",
      "We List Each With Its Corresponding Multiplicity\n",
      "------------------------------------------------\n",
      "n    984  615  219  236  566  328  753  \n",
      "#n   2    2    2    2    2    2    2    \n"
     ]
    }
   ],
   "source": [
    "# count any multiples\n",
    "#####################\n",
    "counts = []\n",
    "multiples = []\n",
    "\n",
    "for i in numbers:\n",
    "    n = numbers.count(i)\n",
    "    mult = i\n",
    "    if n > 1:\n",
    "        counts.append(n)\n",
    "        multiples.append(mult)\n",
    "        \n",
    "pairs = zip(multiples,counts) # create list of 2-tuples of (i,#i)\n",
    "\n",
    "pairs_c = []\n",
    "\n",
    "for j in pairs:           # to weed out the duplicates, use `not in'\n",
    "    if j not in pairs_c:\n",
    "        pairs_c.append(j)\n",
    "\n",
    "multiples_b = [pairs_c[i][0] for i in range(len(pairs_c))]  # extract the multiplicity fr each\n",
    "counts_b = [pairs_c[i][1] for i in range(len(pairs_c))] # extract the corrsponding number\n",
    "multiples_b.insert(0,'n ')  # add line titles for each\n",
    "counts_b.insert(0,'#n')\n",
    "\n",
    "\n",
    "text10 = \"Some Numbers Occur Multiple Times\"\n",
    "text11 = \"We List Each With Its Corresponding Multiplicity\"\n",
    "print()\n",
    "print('{:^48s}'.format(text10))\n",
    "print('{:^48s}'.format(text11))\n",
    "print(\"------------------------------------------------\")\n",
    "\n",
    "print_rows(multiples_b)\n",
    "print_rows(counts_b)"
   ]
  },
  {
   "cell_type": "markdown",
   "id": "a5f2ab93",
   "metadata": {},
   "source": [
    "### Count Multiplicities in a List With More Duplicates\n",
    "\n",
    "Let's try this with a smaller example list with more multiples.  We sort the list for the reader's convenience, to allow verification of the correct multiplicity count."
   ]
  },
  {
   "cell_type": "code",
   "execution_count": 11,
   "id": "192bb451",
   "metadata": {},
   "outputs": [
    {
     "name": "stdout",
     "output_type": "stream",
     "text": [
      "\n",
      "                                      Initial list A                                      \n",
      "------------------------------------------------------------------------------------------\n",
      "12  12  7   2   2   3   7   9   1   12  7   5   1   1   4   1   11  5   12  9   7   9   5   \n",
      "\n",
      "\n",
      "\n",
      "                                      Sorted list A                                       \n",
      "------------------------------------------------------------------------------------------\n",
      "1   1   1   1   2   2   3   4   5   5   5   7   7   7   7   9   9   9   11  12  12  12  12  \n",
      "\n",
      "\n",
      "\n",
      "       Some Numbers Occur Multiple Times        \n",
      "       We List Each With its Multiplicity       \n",
      "------------------------------------------------\n",
      "n   1   2   3   4   5   7   9   11  12  \n",
      "#n  4   2   1   1   3   4   3   1   4   \n",
      "\n"
     ]
    }
   ],
   "source": [
    "A = [12, 12, 7, 2, 2, 3, 7, 9, 1, 12, 7, 5, 1, 1, 4, 1, 11, 5, 12, 9, 7, 9, 5]\n",
    "B = A.copy()\n",
    "\n",
    "text1 = \"Initial list A\"\n",
    "print()\n",
    "print('{:^90s}'.format(text1))\n",
    "print(\"------------------------------------------------------------------------------------------\")\n",
    "\n",
    "print_rows2(A)\n",
    "print()\n",
    "\n",
    "# sort A\n",
    "k = 0\n",
    "for i in range(len(B)):          # n passes\n",
    "    for j in range(len(B)-1):     # swap adjacents only on each pass\n",
    "        if B[j] > B[j+1]:\n",
    "            B[j], B[j+1] = B[j+1], B[j]\n",
    "\n",
    "text2 = \"Sorted list A\"\n",
    "print()\n",
    "print('{:^90s}'.format(text2))\n",
    "print(\"------------------------------------------------------------------------------------------\")\n",
    "print_rows2(B)\n",
    "print()\n",
    "            \n",
    "# count any multiples\n",
    "################################################################\n",
    "counts = []\n",
    "multiples = []\n",
    "\n",
    "for i in B:\n",
    "    n = B.count(i)\n",
    "    mult = i\n",
    "    counts.append(n)\n",
    "    multiples.append(mult)\n",
    "        \n",
    "pairs = list(zip(multiples,counts)) # create list of 2-tuples of (i,#i)\n",
    "\n",
    "pairs_c = []\n",
    "\n",
    "for j in pairs:           # to weed out the duplicates, use `not in'\n",
    "    if j not in pairs_c:\n",
    "        pairs_c.append(j)\n",
    "\n",
    "multiples_b = [pairs_c[i][0] for i in range(len(pairs_c))]  # extract the multiplicity fr each\n",
    "counts_b = [pairs_c[i][1] for i in range(len(pairs_c))] # extract the corrsponding number\n",
    "multiples_b.insert(0,'n ')  # add line titles for each\n",
    "counts_b.insert(0,'#n')\n",
    "\n",
    "text10 = \"Some Numbers Occur Multiple Times\"\n",
    "text11 = \"We List Each With its Multiplicity\"\n",
    "print()\n",
    "print('{:^48s}'.format(text10))\n",
    "print('{:^48s}'.format(text11))\n",
    "print(\"------------------------------------------------\")\n",
    "\n",
    "print_rows2(multiples_b)\n",
    "print_rows2(counts_b)\n",
    "print()"
   ]
  },
  {
   "cell_type": "markdown",
   "id": "6c069b3a",
   "metadata": {},
   "source": [
    "## Task 5: Treat Our 5 Number Lists as Dataset and Extract Their Summary Statistics (With NumPy as well as Pandas)\n",
    "\n",
    "Next, we treat the list \"numbers\" as a sample data set, and extract the summary statistics (min, max, mean, 1st quartile, 2nd quartile = median, 3rd quartile, and standard deviation).  We first do this directly, with numpy, before looking at Pandas' ```.describe()```.  In fact, I gather the summary statistics on all the lists\n",
    "* numbers\n",
    "* evens\n",
    "* odds\n",
    "* 3|n\n",
    "* 5|n"
   ]
  },
  {
   "cell_type": "code",
   "execution_count": 12,
   "id": "832a6f13",
   "metadata": {},
   "outputs": [
    {
     "name": "stdout",
     "output_type": "stream",
     "text": [
      "\n",
      "\n",
      "              Min, Max, Mean, Three Quartiles, and              \n",
      "          Standard Deviation For Each Class of Numbers          \n",
      "----------------------------------------------------------------\n",
      "Class\tMin\tMax\tMean\t1st Q\tMedian\t3rd Q\tSD\n",
      "----------------------------------------------------------------\n",
      "All  \t24\t984\t541.89\t340.00\t550.0\t779\t281.72\n",
      "Evens\t24\t984\t559.64\t360.00\t512.0\t854\t288.81\n",
      "Odds \t47\t953\t527.36\t291.00\t575.0\t748\t274.94\n",
      "3|n  \t24\t984\t502.80\t219.00\t481.5\t753\t302.75\n",
      "5|n  \t105\t980\t539.25\t378.75\t477.5\t695\t235.93\n"
     ]
    }
   ],
   "source": [
    "# summary statistics\n",
    "####################\n",
    "\n",
    "# title \n",
    "text5 = \"Min, Max, Mean, Three Quartiles, and\"\n",
    "text5b = \"Standard Deviation For Each Class of Numbers\"\n",
    "text6 = \"Class\\tMin\\tMax\\tMean\\t1st Q\\tMedian\\t3rd Q\\tSD\"\n",
    "print()\n",
    "print()\n",
    "print('{:^64s}'.format(text5))\n",
    "print('{:^64s}'.format(text5b))\n",
    "print(\"----------------------------------------------------------------\")\n",
    "print('{:<}'.format(text6))\n",
    "print(\"----------------------------------------------------------------\")\n",
    "\n",
    "# printout\n",
    "cases = [numbers, evens, odds, div_by_three, div_by_five]\n",
    "Cases = ['All', 'Evens', 'Odds', '3|n', '5|n']\n",
    "\n",
    "for i in range(len(cases)):\n",
    "    mmax = max(cases[i])\n",
    "    mmin = min(cases[i])\n",
    "    mmean = np.mean(cases[i])\n",
    "    quartile1 = np.quantile(cases[i],0.25)\n",
    "    mmedian = np.median(cases[i])\n",
    "    quartile3 = np.quantile(cases[i],0.75)\n",
    "    ssd = np.std(cases[i])\n",
    "    text7 = f\"{Cases[i]:<5s}\\t{mmin:<d}\\t{mmax:<d}\\t{mmean:<0.2f}\\t{quartile1:<0.2f}\\t{mmedian:<0.1f}\\t{quartile3:<0.0f}\\t{ssd:<0.2f}\"\n",
    "    print('{:<}'.format(text7))"
   ]
  },
  {
   "cell_type": "markdown",
   "id": "b9067e3a",
   "metadata": {},
   "source": [
    "Pandas has the pd.DataFrame() function, which produces a table out of a list.  Running the .describe() function on it extracts the summary statistics and displays them in a column.  \n",
    "\n",
    "This is easy if you use it on a single list. But I wanted to get summary statistics for **all** lists\n",
    "* numbers\n",
    "* evens\n",
    "* odds\n",
    "* 3|n\n",
    "* 5|n\n",
    "\n",
    "so I had to construct a **dictionary** into ```pd.DataFrame()```, with keys taking the title positios above the corresponding column of list values.  Now, since each value in the dictionary was a list, the ```.describe()``` function treated it as a row instead of a column, but that was easy to fix with a simple **transpose** of the data frame.  That set me up for the next irritating problem, the difference in the lists' lengths, which caused ```pd.DataFrame()``` to produce an error.  A stackexchange answer gave me a well known, but less well understood, the ```.from_dict( , orient='index')``` appendage to ```pd.DataFrame()```."
   ]
  },
  {
   "cell_type": "code",
   "execution_count": 13,
   "id": "4581e69b",
   "metadata": {},
   "outputs": [
    {
     "name": "stdout",
     "output_type": "stream",
     "text": [
      "\n",
      "\n",
      "Let's Compare With Pandas' .describe() Function \n",
      "------------------------------------------------\n",
      "          all   evens    odds     3|n     5|n\n",
      "count  100.00   45.00   55.00   40.00   20.00\n",
      "mean   541.89  559.64  527.36  502.80  539.25\n",
      "std    283.14  292.07  277.47  306.60  242.05\n",
      "min     24.00   24.00   47.00   24.00  105.00\n",
      "25%    340.00  360.00  291.00  219.00  378.75\n",
      "50%    550.00  512.00  575.00  481.50  477.50\n",
      "75%    779.00  854.00  748.00  753.00  695.00\n",
      "max    984.00  984.00  953.00  984.00  980.00\n"
     ]
    }
   ],
   "source": [
    "Kases = {'all':numbers,'evens':evens,'odds':odds,'3|n':div_by_three, '5|n':div_by_five}\n",
    "\n",
    "print()\n",
    "print()\n",
    "text8 = f\"Let's Compare With Pandas' .describe() Function\"\n",
    "print('{:^48s}'.format(text8))\n",
    "print(\"------------------------------------------------\")\n",
    "\n",
    "numbers_df = pd.DataFrame.from_dict(Kases, orient='index')\n",
    "numbers_df = numbers_df.T\n",
    "print(numbers_df.describe().applymap('{:.2f}'.format))"
   ]
  },
  {
   "cell_type": "markdown",
   "id": "daa02e06",
   "metadata": {},
   "source": [
    "### Remark About Population Versus Sample Standard Deviation, and the NumPy Fix\n",
    "\n",
    "We notice that NumPy's standard deviation (SD) is different from Pandas'.  This is because NumPy uses the *population* SD, \n",
    "\n",
    "$$\n",
    "\\sigma = \\sqrt{\\frac{1}{n}\\sum_{i=1}^n (x_i-\\bar{x}_i)^2}\n",
    "$$\n",
    "\n",
    "while Pandas uses the *sample* SD, \n",
    " \n",
    "$$\n",
    "s = \\sqrt{\\frac{1}{n-1}\\sum_{i=1}^n (x_i-\\bar{x}_i)^2}\n",
    "$$\n",
    "\n",
    "dividing the sum by $n-1$ instead of $n$.  NumPy's ```np.std()``` has an option to fix this, ```np.std( ,ddof=1)```, which changes the default value of ```np.std( ,ddof=0)```.  "
   ]
  },
  {
   "cell_type": "code",
   "execution_count": 14,
   "id": "e646d551",
   "metadata": {},
   "outputs": [
    {
     "name": "stdout",
     "output_type": "stream",
     "text": [
      "\n",
      "                Min, Max, Mean, Three Quartiles,                \n",
      "         and *Sample* Standard Deviation For Each Class         \n",
      "----------------------------------------------------------------\n",
      "Class\tMin\tMax\tMean\t1st Q\tMedian\t3rd Q\tSD\n",
      "----------------------------------------------------------------\n",
      "All  \t24\t984\t541.89\t340.00\t550.0\t779\t283.14\n",
      "Evens\t24\t984\t559.64\t360.00\t512.0\t854\t292.07\n",
      "Odds \t47\t953\t527.36\t291.00\t575.0\t748\t277.47\n",
      "3|n  \t24\t984\t502.80\t219.00\t481.5\t753\t306.60\n",
      "5|n  \t105\t980\t539.25\t378.75\t477.5\t695\t242.05\n",
      "\n"
     ]
    }
   ],
   "source": [
    "text5c = \"Min, Max, Mean, Three Quartiles,\"\n",
    "text5bc = \"and *Sample* Standard Deviation For Each Class\"\n",
    "text6c = \"Class\\tMin\\tMax\\tMean\\t1st Q\\tMedian\\t3rd Q\\tSD\"\n",
    "print()\n",
    "print('{:^64s}'.format(text5c))\n",
    "print('{:^64s}'.format(text5bc))\n",
    "print(\"----------------------------------------------------------------\")\n",
    "print('{:<}'.format(text6c))\n",
    "print(\"----------------------------------------------------------------\")\n",
    "\n",
    "cases2 = [numbers, evens, odds, div_by_three, div_by_five]\n",
    "Cases2 = ['All', 'Evens', 'Odds', '3|n', '5|n']\n",
    "\n",
    "for i in range(len(cases2)):\n",
    "    mmax = max(cases2[i])\n",
    "    mmin = min(cases2[i])\n",
    "    mmean = np.mean(cases2[i])\n",
    "    quartile1 = np.quantile(cases2[i],0.25)\n",
    "    mmedian = np.median(cases2[i])\n",
    "    quartile3 = np.quantile(cases2[i],0.75)\n",
    "    ssd = np.std(cases2[i],ddof=1)\n",
    "    text7 = f\"{Cases2[i]:<5s}\\t{mmin:<d}\\t{mmax:<d}\\t{mmean:<0.2f}\\t{quartile1:<0.2f}\\t{mmedian:<0.1f}\\t{quartile3:<0.0f}\\t{ssd:<0.2f}\"\n",
    "    print('{:<}'.format(text7))\n",
    "\n",
    "print()"
   ]
  }
 ],
 "metadata": {
  "kernelspec": {
   "display_name": "Python 3",
   "language": "python",
   "name": "python3"
  },
  "language_info": {
   "codemirror_mode": {
    "name": "ipython",
    "version": 3
   },
   "file_extension": ".py",
   "mimetype": "text/x-python",
   "name": "python",
   "nbconvert_exporter": "python",
   "pygments_lexer": "ipython3",
   "version": "3.11.3"
  }
 },
 "nbformat": 4,
 "nbformat_minor": 5
}
