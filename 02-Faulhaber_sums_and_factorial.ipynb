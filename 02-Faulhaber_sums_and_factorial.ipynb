{
 "cells": [
  {
   "cell_type": "markdown",
   "id": "7847ea9d",
   "metadata": {},
   "source": [
    "# Computing Faulhaber Sums and the Factorial Function Directly\n",
    "\n",
    "In this notebook we will ask you for a positive integer $n$ no bigger than $20$ (because we're going to compute $20!$ among other things, and factorials grow quickly), and we will perfom various computations with it:\n",
    "* $\\sum_{i=1}^n i$  (1st Faulhaber sum)\n",
    "* $\\sum_{i=1}^n i^2$  (2nd Faulhaber sum)\n",
    "* $\\sum_{i=1}^n i^3$  (3nd Faulhaber sum)\n",
    "* $\\sum_{i=1}^n i^4$  (4nd Faulhaber sum)\n",
    "* $n!=n(n-1)\\cdots 3\\cdot 2\\cdot 1$  (factorial)\n",
    "\n",
    "Yes, there are built-in Python functions ```sum()``` and ```np.prod()``` to do the 1st Faulhaber sum and the factorial, respectively, from the list $A=[1,\\dots,n]$ which we generate with ```A = np.arange(1,n+1)```, but we want to try to do these and possibly other things with such a list, and explore different methods.\n",
    "\n",
    "Here we try two methods, the ```for``` loop and the ```reduce()``` function on ```A```.  "
   ]
  },
  {
   "cell_type": "markdown",
   "id": "c5f239af",
   "metadata": {},
   "source": [
    "## Import Libraries"
   ]
  },
  {
   "cell_type": "code",
   "execution_count": 1,
   "id": "b5b6db0b",
   "metadata": {},
   "outputs": [],
   "source": [
    "import numpy as np\n",
    "from functools import reduce"
   ]
  },
  {
   "cell_type": "markdown",
   "id": "0ba64dd8",
   "metadata": {},
   "source": [
    "## Prompt the User to Enter a Small Integer $n$"
   ]
  },
  {
   "cell_type": "code",
   "execution_count": 2,
   "id": "46ead44e",
   "metadata": {},
   "outputs": [
    {
     "name": "stdout",
     "output_type": "stream",
     "text": [
      "\t Enter a natural n>1, and we'll compute\n",
      "\n",
      "\t    1) its first Faulhaber sum, 1+...+n\n",
      "\t    2) its factorial, n!\n",
      "\n",
      "\t Be careful, the factorial function can't\n",
      "\t handle numbers much larger than 20!\n"
     ]
    }
   ],
   "source": [
    "# sum of i (Faulhaber 1)\n",
    "\n",
    "print(\"\\t Enter a natural n>1, and we'll compute\\n\")\n",
    "print(\"\\t    1) its first Faulhaber sum, 1+...+n\")\n",
    "print(\"\\t    2) its factorial, n!\")\n",
    "print(\"\\n\\t Be careful, the factorial function can't\")\n",
    "print(\"\\t handle numbers much larger than 20!\")\n",
    "n = int(input(\"\\n\\t\\t n = \"))"
   ]
  },
  {
   "cell_type": "markdown",
   "id": "95b69c4a",
   "metadata": {},
   "source": [
    "*(My own choice was $n=14$, but you can try your own.)*\n",
    "\n",
    "## Task 1: Compute the First Faulhaber Sum and the Factorial\n",
    "\n",
    "Using the user's choice of $n\\in\\mathbf{N}$, we generate a list $A = [1,\\dots, n]$ and try ```for``` loops to do the *1st Faulhaber sum* and the *factorial* $n!$. \n",
    "\n",
    "Yes, the first Faulhaber sum can be computed by Python's built-in ```sum(A)```, and the factorial can be computed by NumPy's ```numpy.math.factorial(A)``` function, but we aren't satisfied with that, because there are other operations we would like to perfom on the list $A$, such as higher Faulhaber sums.  \n",
    "\n",
    "We try two basic methods, ```for``` loops, and Python's ```reduce()``` function."
   ]
  },
  {
   "cell_type": "markdown",
   "id": "cd76a443",
   "metadata": {},
   "source": [
    "### Using ```for``` Loops"
   ]
  },
  {
   "cell_type": "code",
   "execution_count": 3,
   "id": "39d46f31",
   "metadata": {},
   "outputs": [
    {
     "name": "stdout",
     "output_type": "stream",
     "text": [
      "\n",
      "\t    1a) 1 + 2 + ... + 14 = 105\t(for loop)\n",
      "\t    2a) 14! = 87178291200\t(for loop)\n"
     ]
    }
   ],
   "source": [
    "A = np.arange(1,n+1)\n",
    "\n",
    "# sum \n",
    "s = 0\n",
    "\n",
    "for i in range(n):\n",
    "    s = s + A[i]\n",
    "\n",
    "# factorial\n",
    "\n",
    "f = 1\n",
    "\n",
    "for i in range(n):\n",
    "    f = f*A[i]\n",
    "\n",
    "# printout\n",
    "\n",
    "print(\"\\n\\t    1a) 1 + 2 + ... + {1} = {0}\\t(for loop)\".format(s,n))\n",
    "print(\"\\t    2a) {0}! = {1}\\t(for loop)\".format(n,f))"
   ]
  },
  {
   "cell_type": "markdown",
   "id": "11fc6dbc",
   "metadata": {},
   "source": [
    "### Using Python's ```reduce()``` Function"
   ]
  },
  {
   "cell_type": "code",
   "execution_count": 4,
   "id": "ce0d5853",
   "metadata": {},
   "outputs": [
    {
     "name": "stdout",
     "output_type": "stream",
     "text": [
      "\n",
      "\t Then we compare with an alternate method\n",
      "\t using functools' reduce() function\n",
      "\n",
      "\t    1b) 1 + 2 + ... + 14 = 105\t(reduce)\n",
      "\t    2b) 14! = 87178291200\t(reduce)\n"
     ]
    }
   ],
   "source": [
    "# alternate method using functools' reduce()\n",
    "\n",
    "print(\"\\n\\t Then we compare with an alternate method\")\n",
    "print(\"\\t using functools' reduce() function\")\n",
    "\n",
    "\n",
    "def add(x, y):\n",
    "    return x + y\n",
    "\n",
    "def mult(x, y):\n",
    "    return x * y\n",
    "\n",
    "S = reduce(add,A)\n",
    "F = reduce(mult,A)\n",
    "\n",
    "# printout\n",
    "\n",
    "print(\"\\n\\t    1b) 1 + 2 + ... + {1} = {0}\\t(reduce)\".format(S,n))\n",
    "print(\"\\t    2b) {1}! = {0}\\t(reduce)\".format(F,n))"
   ]
  },
  {
   "cell_type": "markdown",
   "id": "a8a5e3ba",
   "metadata": {},
   "source": [
    "## Task 2: Compute the 2nd, 3rd and 4th Faulhaber Sums Using ```for``` Loops and Python's ```reduce()``` Function "
   ]
  },
  {
   "cell_type": "code",
   "execution_count": 5,
   "id": "a610f98e",
   "metadata": {},
   "outputs": [
    {
     "name": "stdout",
     "output_type": "stream",
     "text": [
      "\n",
      "\t Both methods--for loop and reduce--can be used\n",
      "\t to compute higher Faulhaber sums, such as the sum\n",
      "\t of squares, strictly from the list A = [1,...,n],\n",
      "\n",
      "\t    3a) 1^2 + 2^2 + ... + 14^2 = 1015\t(for loop)\n",
      "\t    3b) 1^2 + 2^2 + ... + 14^2 = 1015\t(reduce)\n",
      "\n",
      "\t or the sum of cubes,\n",
      "\n",
      "\t    4a) 1^3 + 2^3 + ... + 14^3 = 11025\t(for loop)\n",
      "\t    4b) 1^3 + 2^3 + ... + 14^3 = 11025\t(reduce)\n",
      "\n",
      "\t or the sum of fourth powers,\n",
      "\n",
      "\t    4a) 1^4 + 2^4 + ... + 14^4 = 127687\t(for loop)\n",
      "\t    4b) 1^4 + 2^4 + ... + 14^4 = 127687\t(reduce)\n"
     ]
    }
   ],
   "source": [
    "# Faulhaber 2\n",
    "\n",
    "print(\"\\n\\t Both methods--for loop and reduce--can be used\")\n",
    "print(\"\\t to compute higher Faulhaber sums, such as the sum\")\n",
    "print(\"\\t of squares, strictly from the list A = [1,...,n],\")\n",
    "\n",
    "\n",
    "ss = 0\n",
    "\n",
    "for i in range(n):\n",
    "    ss = ss + A[i]**2\n",
    "\n",
    "def add_sq(x, y):\n",
    "    return x + y**2\n",
    "\n",
    "SS = reduce(add_sq,A)\n",
    "\n",
    "print(\"\\n\\t    3a) 1^2 + 2^2 + ... + {1}^2 = {0}\\t(for loop)\".format(ss,n))\n",
    "print(\"\\t    3b) 1^2 + 2^2 + ... + {1}^2 = {0}\\t(reduce)\".format(SS,n))\n",
    "\n",
    "# Faulhaber 3\n",
    "\n",
    "print(\"\\n\\t or the sum of cubes,\")\n",
    "\n",
    "t = 0\n",
    "\n",
    "for i in range(n):\n",
    "    t = t + A[i]**3\n",
    "\n",
    "def add_cube(x, y):\n",
    "    return x + y**3\n",
    "\n",
    "T = reduce(add_cube,A)\n",
    "\n",
    "print(\"\\n\\t    4a) 1^3 + 2^3 + ... + {1}^3 = {0}\\t(for loop)\".format(t,n))\n",
    "print(\"\\t    4b) 1^3 + 2^3 + ... + {1}^3 = {0}\\t(reduce)\".format(T,n))\n",
    "\n",
    "# Faulhaber 4\n",
    "\n",
    "print(\"\\n\\t or the sum of fourth powers,\")\n",
    "\n",
    "tt = 0\n",
    "\n",
    "for i in range(n):\n",
    "    tt = tt + A[i]**4\n",
    "\n",
    "def add_cube(x, y):\n",
    "    return x + y**4\n",
    "\n",
    "TT = reduce(add_cube,A)\n",
    "\n",
    "print(\"\\n\\t    4a) 1^4 + 2^4 + ... + {1}^4 = {0}\\t(for loop)\".format(tt,n))\n",
    "print(\"\\t    4b) 1^4 + 2^4 + ... + {1}^4 = {0}\\t(reduce)\".format(TT,n))"
   ]
  },
  {
   "cell_type": "markdown",
   "id": "a3aa0841",
   "metadata": {},
   "source": [
    "### Test All Results Against Known Forumlas for First 4 Faulhaber Sums\n",
    "\n",
    "It is well known that the Faulhaber sums have simple formulas which can be recursively derived starting with the fist.  Let's use these to verify our results above. "
   ]
  },
  {
   "cell_type": "code",
   "execution_count": 6,
   "id": "808fa35f",
   "metadata": {},
   "outputs": [
    {
     "name": "stdout",
     "output_type": "stream",
     "text": [
      "\n",
      "\t sum_(i=1)^14 i   = 14(14+1)/2 \t\t\t\t= 105\n",
      "\t sum_(i=1)^14 i^2 = 14(14+1)(2*14+1)/6 \t\t\t= 1015\n",
      "\t sum_(i=1)^14 i^3 = [14(14+1)/2]^2 \t\t\t= 11025\n",
      "\t sum_(i=1)^14 i^4 = 14(14+1)(2*14+1)(3*14^2+3*14-1)/3 \t= 127687\n"
     ]
    }
   ],
   "source": [
    "# Faulhaber formulas\n",
    "\n",
    "F1 = int(n*(n+1)/2)\n",
    "F2 = int(n*(n+1)*(2*n+1)/6)\n",
    "F3 = int(F1**2)\n",
    "F4 = int(n*(n+1)*(2*n+1)*(3*n**2+3*n-1)/30)\n",
    "\n",
    "print(\"\\n\\t sum_(i=1)^{0} i   = {0}({0}+1)/2 \\t\\t\\t\\t= {1}\".format(n,F1))\n",
    "print(\"\\t sum_(i=1)^{0} i^2 = {0}({0}+1)(2*{0}+1)/6 \\t\\t\\t= {1}\".format(n,F2))\n",
    "print(\"\\t sum_(i=1)^{0} i^3 = [{0}({0}+1)/2]^2 \\t\\t\\t= {1}\".format(n,F3))\n",
    "print(\"\\t sum_(i=1)^{0} i^4 = {0}({0}+1)(2*{0}+1)(3*{0}^2+3*{0}-1)/3 \\t= {1}\".format(n,F4))"
   ]
  },
  {
   "cell_type": "markdown",
   "id": "f0834d10",
   "metadata": {},
   "source": [
    "Everything is correct!"
   ]
  }
 ],
 "metadata": {
  "kernelspec": {
   "display_name": "Python 3",
   "language": "python",
   "name": "python3"
  },
  "language_info": {
   "codemirror_mode": {
    "name": "ipython",
    "version": 3
   },
   "file_extension": ".py",
   "mimetype": "text/x-python",
   "name": "python",
   "nbconvert_exporter": "python",
   "pygments_lexer": "ipython3",
   "version": "3.11.3"
  }
 },
 "nbformat": 4,
 "nbformat_minor": 5
}
