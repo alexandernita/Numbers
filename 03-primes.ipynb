{
 "cells": [
  {
   "cell_type": "markdown",
   "id": "119b599a",
   "metadata": {},
   "source": [
    "## Import Libraries"
   ]
  },
  {
   "cell_type": "markdown",
   "id": "28b4c4d3",
   "metadata": {},
   "source": [
    "# Prime Factorization, Euler's $\\varphi$ Function, and Applications of Prime Numbers\n",
    "\n",
    "Given a natural number $n\\in\\mathbf{N}$, we are interested in **counting** and even **listing**:\n",
    "1. all **primes** $p$ *($1$ and $p$ are $p$'s only factors)* between $2$ and $n$\n",
    "2. all **coprime** numbers to $n$ *($m\\in\\mathbf{N}$ with $\\gcd(m,n)=1$)* between $1$ and $n$ \n",
    "\n",
    "For example, \n",
    "* If $n=10$, there are four primes, $p=2, 3, 5, 7$ in the interval $[2,10]$, and four coprimes $m = 1, 3, 7, 9$ to $n=10$ in the intervsl $[1,10]$.  \n",
    "\n",
    "The number $k$ of coprime numbers $m\\in [1,n]$ to $n$ is the value of **Euler's $\\varphi$ function** applied to $n$,\n",
    "\n",
    "$$\n",
    "\\varphi(n)\\ =\\ k\\ \\stackrel{\\text{def}}{=}\\ \\bigl|\\{m\\in \\mathbf{N}:1\\leq m\\leq n,\\ \\gcd(m,n)=1\\}\\bigr|\n",
    "$$\n",
    "\n",
    "This function is known to be computable in terms of $n$'s prime factorization:  If \n",
    "\n",
    "$$\n",
    "n = p_1^{k_1}p_2^{k_2}\\cdots p_r^{k_r}\n",
    "$$\n",
    "\n",
    "then \n",
    "\n",
    "$$\n",
    "\\varphi (n) = p_{1}^{k_{1}-1}(p_{1}{-}1)\\,p_{2}^{k_{2}-1}(p_{2}{-}1)\\cdots p_{r}^{k_{r}-1}(p_{r}{-}1)\n",
    "$$\n",
    "\n",
    "We will first produce **two lists**, one of **primes in $p\\in [2,n]$**, another of **coprimes $m\\in [1,n]$** to $n$.  Then we will find $n$'s **prime factorization** and compare the length of the coprimes list to the value of $\\varphi(n)$.\n",
    "\n",
    "*(This Jupyter notebook displays my own choice of $n=8960$, but you can choose your own when you run it . Be warned, however, that producing the lists of primes and coprimes is memory intensive, and gets slow when we get to 5+ digit 's.)*\n",
    "\n",
    "## Import Libraries"
   ]
  },
  {
   "cell_type": "code",
   "execution_count": null,
   "id": "0c66a205",
   "metadata": {},
   "outputs": [],
   "source": [
    "import numpy as np"
   ]
  },
  {
   "cell_type": "markdown",
   "id": "79b812d1",
   "metadata": {},
   "source": [
    "## Formatting the Output\n",
    "\n",
    "We begin by writing a small function intended to format the output lists."
   ]
  },
  {
   "cell_type": "code",
   "execution_count": null,
   "id": "780cbb0f",
   "metadata": {},
   "outputs": [],
   "source": [
    "# define prinout format function, rows length 10, width 4 digits\n",
    "################################################################\n",
    "def print_rows(x,modulus=10):\n",
    "    for i,a in enumerate(x,start=1):\n",
    "        print(f\"{a: <4} \", end=\"\")\n",
    "        if i % modulus == 0:\n",
    "            print()\n",
    "    print()"
   ]
  },
  {
   "cell_type": "markdown",
   "id": "d26e3382",
   "metadata": {},
   "source": [
    "## Task 1:  List All Primes $p\\in [2,n]$ and all Coprimes $m\\in [1,n]$. \n",
    "\n",
    "### Prompt the User to Enter $n\\in\\mathbf{Z}$."
   ]
  },
  {
   "cell_type": "code",
   "execution_count": null,
   "id": "ac886ff9",
   "metadata": {},
   "outputs": [],
   "source": [
    "# format the prompt\n",
    "\n",
    "print()\n",
    "text0 = \"It is your task to choose an integer n.\"\n",
    "text1 = \"In return, we will list for you all the\"\n",
    "text2 = \"primes p less than |n|, and secondly all\"\n",
    "text3 = \"integers m between 1 and |n| which are\"\n",
    "text3b = \"coprime to n, i.e. gcd(m,n) = 1.\"\n",
    "print('{:<}'.format(text0))\n",
    "print('{:<}'.format(text1))\n",
    "print('{:<}'.format(text2))\n",
    "print('{:<}'.format(text3))\n",
    "print('{:<}'.format(text3b))\n",
    "\n",
    "# input n\n",
    "\n",
    "text3c = \"Enter an integer n:\"\n",
    "print()\n",
    "print('{:<}'.format(text3c))\n",
    "N = int(input(\"prime to n.\\n\\n\"))"
   ]
  },
  {
   "cell_type": "markdown",
   "id": "3b442c99",
   "metadata": {},
   "source": [
    "*(I input $n=8960$ when I ran it, and the lists clocked in at 1.5s)*\n",
    "\n",
    "### Compute the Prime List"
   ]
  },
  {
   "cell_type": "code",
   "execution_count": null,
   "id": "7298db82",
   "metadata": {},
   "outputs": [],
   "source": [
    "# list the primes p <= n\n",
    "\n",
    "P = []\n",
    "\n",
    "for n in range(2,N+1):\n",
    "    k = 2\n",
    "    while k in range(2,n) and n % k != 0:\n",
    "        k = k+1\n",
    "    if k == n:\n",
    "        P.append(n)\n",
    "\n",
    "# print out the primes \n",
    "\n",
    "n = len(P)\n",
    "text1 = \"There Are k = {0} Primes p in the Interval [2,{1}]\".format(n,N)\n",
    "print()\n",
    "print('{:^48s}'.format(text1))\n",
    "print(\"--------------------------------------------------\")\n",
    "\n",
    "print_rows(P)"
   ]
  },
  {
   "cell_type": "markdown",
   "id": "6b74ab48",
   "metadata": {},
   "source": [
    "## Compute the Coprime List"
   ]
  },
  {
   "cell_type": "code",
   "execution_count": null,
   "id": "883e61ad",
   "metadata": {},
   "outputs": [],
   "source": [
    "# list the coprimes \n",
    "\n",
    "Q = []\n",
    "for n in range(1,N+1):\n",
    "    if np.gcd(n,N) == 1:\n",
    "        Q.append(n)\n",
    "    phi = len(Q)\n",
    "\n",
    "# print out the coprimes\n",
    "\n",
    "text4 = \"We also list here all phi({0}) = {1}\".format(N,phi)\n",
    "text5 = \"numbers m in [1,{0}] which are coprime to {0}.\".format(N)\n",
    "print()\n",
    "print('{:^48s}'.format(text4))\n",
    "print('{:^48s}'.format(text5))\n",
    "print(\"--------------------------------------------------\")\n",
    "print_rows(Q)"
   ]
  },
  {
   "cell_type": "markdown",
   "id": "2992660d",
   "metadata": {},
   "source": [
    "## Prime Factorization of $n$ and Euler's $\\varphi$ Function\n",
    "\n",
    "We now compute the prime factorization of $n$, \n",
    "\n",
    "$$\n",
    "n = p_1^{k_1}p_2^{k_2}\\cdots p_r^{k_r}\n",
    "$$\n",
    "\n",
    "and use the Euler $\\varphi$ function \n",
    "$$\n",
    "\\varphi (n)\\stackrel{\\text{def}}{=} p_{1}^{k_{1}-1}(p_{1}{-}1)\\,p_{2}^{k_{2}-1}(p_{2}{-}1)\\cdots p_{r}^{k_{r}-1}(p_{r}{-}1)\n",
    "$$\n",
    "\n",
    "to verify our previous count of the number of coprimes to $n$ in the interval $[1,n]$.\n",
    "\n",
    "The essence of the prime factorization algorithm is that it iterates through all integers $i$ in the interval $[2,\\sqrt{n}]$, checking whether $i|n$ ($i$ divides $n$).  If it does, we store $i$ in the list ```factors``` and replace $n$ with the resulting quotient, $n=n/i$, since all other factors of $n$ are factors of this quotient.  If $i\\not|n$, we move to the next hopeful integer, $i=i+1$, then repeat the inquiry.  With $i$ increasing and $n$ decreasing, the loop breaks when $i^2>n$ (if $n$ is the previous quotient and $i|n$ it cannot leave a quotient smaller than $i$, which would have already been accounted for), leaving $n$ the last factor, which we append at the end.  \n",
    "\n",
    "Let us illustrate this directly with $n = 60$, which has prime factorization $60 = 2^2\\cdot 3\\cdot 5$.  \n",
    "* Start with $i=2$ and check whether $2|60$.  The answer is yes, and we store $2$ in the list $F =\\{2\\}$ and replace $n$ with the quotient $n=60/2 = 30$.  \n",
    "* Our $i$ is still $2$, but now we check whether $i$ lies in $[2,\\sqrt{30}]$.  But of course it does since $i^2 = 4\\leq 30 = n$.  \n",
    "* We check whether $i|n$, that is whether $2|30$.  It does, so we store $2$ in $F$ (which is now $F=\\{2,2\\}$) and let $n$ equal the quotient $30/2=15$.  Repeat.\n",
    "* We check whether $2$ lies in $[2,\\sqrt{15}]$, answer is yes.\n",
    "* We check whether $2|15$.  No.  Let $i=i+1=3$.  Repeat.\n",
    "* We check whether $3$ lies in $[2,\\sqrt{15}]$, answer is yes.\n",
    "* We check whether $3|15$.  Yes, so we store $3$ in $F$, which is now $F=\\{2,2,3\\}$, and replace $n$ with $15/3 = 5$.\n",
    "* We check whether $i=3$ lies in $[2,5]$.  No.  The while loop breaks, and we append $n=5$ to $F$, which is now $\\boxed{\\ F=\\{2,2,3,5\\}\\ }$, the complete list of factors of $60$.  "
   ]
  },
  {
   "cell_type": "code",
   "execution_count": null,
   "id": "11c35d40",
   "metadata": {},
   "outputs": [],
   "source": [
    "# Step 1: list all factors of n\n",
    "\n",
    "def prime_factors(n):\n",
    "    i = 2\n",
    "    factors = []\n",
    "    while i * i <= n:\n",
    "        if n % i:\n",
    "            i += 1\n",
    "        else:\n",
    "            n //= i\n",
    "            factors.append(i)\n",
    "    if n > 1:\n",
    "        factors.append(n)\n",
    "    return factors\n",
    "\n",
    "all_factors = prime_factors(N)\n",
    "NN = len(all_factors)\n",
    "\n",
    "# Step 2: reduce list of factors by removing duplicates  \n",
    "\n",
    "factors_no_mult = []\n",
    "for i in range(NN):\n",
    "    k = all_factors[i]\n",
    "    if k not in factors_no_mult:\n",
    "        factors_no_mult.append(k)\n",
    "        \n",
    "# Step 3: extract the single factors' multiplicities\n",
    "\n",
    "mult = [all_factors.count(k) for k in factors_no_mult]\n",
    "N0 = len(mult)\n",
    "\n",
    "# Step 4: print the factors + multiplicities out\n",
    "\n",
    "print()\n",
    "print(\"{0}'s prime factors and their multiplicities are: \".format(N))\n",
    "print()\n",
    "print(\"\\tp   k\")\n",
    "print(\"\\t------\")\n",
    "for i in range(N0):\n",
    "    print(\"\\t{0}   {1}\".format(factors_no_mult[i],mult[i]))\n",
    "\n",
    "print()\n",
    "print(\"Euler's phi function computes the number of integers\")\n",
    "print(\"m in the interval [1,{0}] which are coprime to {0}\".format(N))\n",
    "print(\"using the prime factorization n = p_1^k_1...p_r^k_r,\")\n",
    "print(\"phi(n) = p_1^(k_1-1)*(p_1-1)...p_r^(k_r-1)*(p_r-1)\")\n",
    "print()\n",
    "\n",
    "# Step 5: \n",
    "\n",
    "A = [mult[i]-1 for i in range(N0)]\n",
    "B = [(factors_no_mult[i]-1) for i in range(N0)]\n",
    "C = [factors_no_mult[i]**A[i] for i in range(N0)]\n",
    "      \n",
    "Euler_phi = 1\n",
    "for i in range(N0):\n",
    "    Euler_phi = Euler_phi*B[i]*C[i]\n",
    "\n",
    "print(\"phi({0}) = {1}\".format(N,Euler_phi))"
   ]
  },
  {
   "cell_type": "markdown",
   "id": "564e0cec",
   "metadata": {},
   "source": [
    "Everything is correct!"
   ]
  }
 ],
 "metadata": {
  "kernelspec": {
   "display_name": "Python 3",
   "language": "python",
   "name": "python3"
  },
  "language_info": {
   "codemirror_mode": {
    "name": "ipython",
    "version": 3
   },
   "file_extension": ".py",
   "mimetype": "text/x-python",
   "name": "python",
   "nbconvert_exporter": "python",
   "pygments_lexer": "ipython3",
   "version": "3.11.3"
  }
 },
 "nbformat": 4,
 "nbformat_minor": 5
}
