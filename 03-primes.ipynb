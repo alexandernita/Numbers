{
 "cells": [
  {
   "cell_type": "markdown",
   "id": "28b4c4d3",
   "metadata": {},
   "source": [
    "This notebook concerns prime and coprime numbers less than a given positive $n\\in\\mathbb{N}$ of your choosing (*you* input $n$).  \n",
    "* For example, if $n=5$, there are three primes $p = 2, 3, 5$ in the interval $[2,5]$, and four numbers $m = 1, 2, 3, 4$ coprime to $n=5$ in the intervsl $[1,5]$.\n",
    "* If $n=10$, there are four primes, $p=2, 3, 5, 7$ in the interval $[2,10]$, and four numbers $m = 1, 3, 7, 9$ coprime to $n=10$ in the intervsl $[1,10]$ \n",
    "\n",
    "The number $k$ of numbers $m\\in [1,n]$ coprime to $n$, satisfying by definition $\\gcd(m,n)=1$, is the value of **Euler's $\\varphi$ function**,\n",
    "\n",
    "$$\n",
    "\\varphi(n)\\ =\\ k\\ \\stackrel{\\text{def}}{=}\\ |\\{m\\in [1,n]:\\gcd(m,n)=1\\}|\n",
    "$$\n",
    "\n",
    "Below, we write functions to compute each of the lists, primes and coprimes, less than a given $n$.  Then we provide the prime factorization of $n$ and compare the coprime list length with Euler's phi function.  This Jupyter notebook displays my own choice of $n=8960$, but when you run the code, you can choose your own $n$.  Be warned, however, that producing the lists of primes and coprimes is memory intensive, and gets slow when we get to 5+ digit $n$'s.  "
   ]
  },
  {
   "cell_type": "markdown",
   "id": "79b812d1",
   "metadata": {},
   "source": [
    "We begin by writing a small function intended to format the output lists."
   ]
  },
  {
   "cell_type": "code",
   "execution_count": 14,
   "id": "780cbb0f",
   "metadata": {},
   "outputs": [],
   "source": [
    "# define prinout format function, rows length 10, width 4 digits\n",
    "################################################################\n",
    "def print_rows(x,modulus=10):\n",
    "    for i,a in enumerate(x,start=1):\n",
    "        print(f\"{a: <4} \", end=\"\")\n",
    "        if i % modulus == 0:\n",
    "            print()\n",
    "    print()"
   ]
  },
  {
   "cell_type": "markdown",
   "id": "d26e3382",
   "metadata": {},
   "source": [
    "Now let's list all primes $p\\in [2,n]$ and all the coprimes $m\\in [1,n]$.  We begin by formatting the title of the output."
   ]
  },
  {
   "cell_type": "code",
   "execution_count": 15,
   "id": "ac886ff9",
   "metadata": {},
   "outputs": [
    {
     "name": "stdout",
     "output_type": "stream",
     "text": [
      "\n",
      "It is your task to choose an integer n.\n",
      "In return, we will list for you all the\n",
      "primes p less than |n|, and secondly all\n",
      "integers m between 1 and |n| which are coprime\n",
      "to n, i.e. gcd(m,n) = 1. The length of this\n",
      "second list is known as Euler's phi function.\n",
      "--------------------------------------------------\n"
     ]
    }
   ],
   "source": [
    "import numpy as np\n",
    "\n",
    "# format the prompt\n",
    "\n",
    "print()\n",
    "text0 = \"It is your task to choose an integer n.\"\n",
    "text1 = \"In return, we will list for you all the\"\n",
    "text2 = \"primes p less than |n|, and secondly all\"\n",
    "text3 = \"integers m between 1 and |n| which are coprime\"\n",
    "text3b = \"to n, i.e. gcd(m,n) = 1. The length of this\"\n",
    "text3c = \"second list is known as Euler's phi function.\"\n",
    "print('{:<}'.format(text0))\n",
    "print('{:<}'.format(text1))\n",
    "print('{:<}'.format(text2))\n",
    "print('{:<}'.format(text3))\n",
    "print('{:<}'.format(text3b))\n",
    "print('{:<}'.format(text3c))\n",
    "print(\"--------------------------------------------------\")"
   ]
  },
  {
   "cell_type": "markdown",
   "id": "5983af7e",
   "metadata": {},
   "source": [
    "Prompt the user to input the number $n$. *(I input $n=8960$ when I ran it, and the lists clocked in at 1.5s)*"
   ]
  },
  {
   "cell_type": "code",
   "execution_count": 16,
   "id": "3fefc998",
   "metadata": {},
   "outputs": [
    {
     "name": "stdout",
     "output_type": "stream",
     "text": [
      "\n",
      "Enter a positive integer n, and we'll list all\n",
      "primes p <= n, as well as all k <= n relatively\n"
     ]
    }
   ],
   "source": [
    "# input n\n",
    "\n",
    "text3c = \"Enter a positive integer n, and we'll list all\"\n",
    "text3d = \"primes p <= n, as well as all k <= n relatively\"\n",
    "print()\n",
    "print('{:<}'.format(text3c))\n",
    "print('{:<}'.format(text3d))\n",
    "N = int(input(\"prime to n.\\n\\n\"))"
   ]
  },
  {
   "cell_type": "markdown",
   "id": "3b442c99",
   "metadata": {},
   "source": [
    "Compute the prime and coprime lists."
   ]
  },
  {
   "cell_type": "code",
   "execution_count": 17,
   "id": "7298db82",
   "metadata": {},
   "outputs": [
    {
     "name": "stdout",
     "output_type": "stream",
     "text": [
      "\n",
      "There Are k = 6 Primes p in the Interval [2,14] \n",
      "--------------------------------------------------\n",
      "2    3    5    7    11   13   \n",
      "\n",
      "       We also list here all phi(14) = 6        \n",
      "  numbers m in [1,14] which are coprime to 14.  \n",
      "--------------------------------------------------\n",
      "1    3    5    9    11   13   \n"
     ]
    }
   ],
   "source": [
    "# list the primes p <= n\n",
    "\n",
    "P = []\n",
    "\n",
    "for n in range(2,N+1):\n",
    "    k = 2\n",
    "    while k in range(2,n) and n % k != 0:\n",
    "        k = k+1\n",
    "    if k == n:\n",
    "        P.append(n)\n",
    "\n",
    "# print out the primes \n",
    "\n",
    "n = len(P)\n",
    "text1 = \"There Are k = {0} Primes p in the Interval [2,{1}]\".format(n,N)\n",
    "print()\n",
    "print('{:^48s}'.format(text1))\n",
    "print(\"--------------------------------------------------\")\n",
    "\n",
    "print_rows(P)\n",
    "\n",
    "# list the coprimes \n",
    "\n",
    "Q = []\n",
    "for n in range(1,N+1):\n",
    "    if np.gcd(n,N) == 1:\n",
    "        Q.append(n)\n",
    "    phi = len(Q)\n",
    "\n",
    "# print out the coprimes\n",
    "\n",
    "text4 = \"We also list here all phi({0}) = {1}\".format(N,phi)\n",
    "text5 = \"numbers m in [1,{0}] which are coprime to {0}.\".format(N)\n",
    "print()\n",
    "print('{:^48s}'.format(text4))\n",
    "print('{:^48s}'.format(text5))\n",
    "print(\"--------------------------------------------------\")\n",
    "print_rows(Q)"
   ]
  },
  {
   "cell_type": "markdown",
   "id": "2992660d",
   "metadata": {},
   "source": [
    "We now compute the prime factorization of $n$, \n",
    "\n",
    "$$\n",
    "n = p_1^{k_1}p_2^{k_2}\\cdots p_r^{k_r}\n",
    "$$\n",
    "\n",
    "and use the Euler $\\varphi$ function \n",
    "$$\n",
    "\\varphi (n)\\stackrel{\\text{def}}{=} p_{1}^{k_{1}-1}(p_{1}{-}1)\\,p_{2}^{k_{2}-1}(p_{2}{-}1)\\cdots p_{r}^{k_{r}-1}(p_{r}{-}1)\n",
    "$$\n",
    "\n",
    "to verify our previous result on the number of coprimes.\n",
    "\n",
    "The essence of the prime factorization algorithm is that it iterates through all integers $i$ in the interval $[2,\\sqrt{n}]$, checking whether $i|n$ ($i$ divides $n$).  If it does, we store $i$ in the list ```factors``` and replace $n$ with the resulting quotient, $n=n/i$, since all other factors of $n$ are factors of this quotient.  If $i\\not|n$, we move to the next hopeful integer, $i=i+1$, then repeat the inquiry.  With $i$ increasing and $n$ decreasing, the loop breaks when $i^2>n$ (if $n$ is the previous quotient and $i|n$ it cannot leave a quotient smaller than $i$, which would have already been accounted for), leaving $n$ the last factor, which we append at the end.  \n",
    "\n",
    "Let us illustrate the with $n = 60$, which has prime factorization $60 = 2^2\\cdot 3\\cdot 5$.  \n",
    "* Start with $i=2$ and check whether $2|60$.  The answer is yes, and we store $2$ in the list $F =\\\\{2\\\\}$ and replace $n$ with the quotient $n=60/2 = 30$.  \n",
    "* Our $i$ is still $2$, but now we check whether $i$ lies in $[2,\\sqrt{30}]$.  But of course it does since $i^2 = 4\\leq 30 = n$.  \n",
    "* We check whether $i|n$, that is whether $2|30$.  It does, so we store $2$ in $F$ (which is now $F=\\\\{2,2\\\\}$) and let $n$ equal the quotient $30/2=15$.  Repeat.\n",
    "* We check whether $2$ lies in $[2,\\sqrt{15}]$, answer is yes.\n",
    "* We check whether $2|15$.  No.  Let $i=i+1=3$.  Repeat.\n",
    "* We check whether $3$ lies in $[2,\\sqrt{15}]$, answer is yes.\n",
    "* We check whether $3|15$.  Yes, so we store $3$ in $F$, which is now $F=\\\\{2,2,3\\\\}$, and replace $n$ with $15/3 = 5$.\n",
    "* We check whether $i=3$ lies in $[2,5]$.  No.  The while loop breaks, and we append $n=5$ to $F$, which is now $F=\\\\{2,2,3,5\\\\}$, the complete list of factors of $60$.  "
   ]
  },
  {
   "cell_type": "code",
   "execution_count": 18,
   "id": "11c35d40",
   "metadata": {},
   "outputs": [
    {
     "name": "stdout",
     "output_type": "stream",
     "text": [
      "\n",
      "14's prime factors and their multiplicities are: \n",
      "\n",
      "\tp   k\n",
      "\t------\n",
      "\t2   1\n",
      "\t7   1\n",
      "\n",
      "Euler's phi function computes the number of integers\n",
      "m in the interval [1,14] which are coprime to 14\n",
      "using the prime factorization n = p_1^k_1...p_r^k_r,\n",
      "phi(n) = p_1^(k_1-1)*(p_1-1)...p_r^(k_r-1)*(p_r-1)\n",
      "\n",
      "phi(14) = 6\n"
     ]
    }
   ],
   "source": [
    "# Step 1: list all factors of n\n",
    "\n",
    "def prime_factors(n):\n",
    "    i = 2\n",
    "    factors = []\n",
    "    while i * i <= n:\n",
    "        if n % i:\n",
    "            i += 1\n",
    "        else:\n",
    "            n //= i\n",
    "            factors.append(i)\n",
    "    if n > 1:\n",
    "        factors.append(n)\n",
    "    return factors\n",
    "\n",
    "all_factors = prime_factors(n)\n",
    "N = len(all_factors)\n",
    "\n",
    "# Step 2: reduce list of factors by removing duplicates  \n",
    "\n",
    "factors_no_mult = []\n",
    "for i in range(N):\n",
    "    k = all_factors[i]\n",
    "    if k not in factors_no_mult:\n",
    "        factors_no_mult.append(k)\n",
    "        \n",
    "# Step 3: extract the single factors' multiplicities\n",
    "\n",
    "mult = [all_factors.count(k) for k in factors_no_mult]\n",
    "N0 = len(mult)\n",
    "\n",
    "# Step 4: print the factors + multiplicities out\n",
    "\n",
    "print()\n",
    "print(\"{0}'s prime factors and their multiplicities are: \".format(n))\n",
    "print()\n",
    "print(\"\\tp   k\")\n",
    "print(\"\\t------\")\n",
    "for i in range(N0):\n",
    "    print(\"\\t{0}   {1}\".format(factors_no_mult[i],mult[i]))\n",
    "\n",
    "print()\n",
    "print(\"Euler's phi function computes the number of integers\")\n",
    "print(\"m in the interval [1,{0}] which are coprime to {0}\".format(n))\n",
    "print(\"using the prime factorization n = p_1^k_1...p_r^k_r,\")\n",
    "print(\"phi(n) = p_1^(k_1-1)*(p_1-1)...p_r^(k_r-1)*(p_r-1)\")\n",
    "print()\n",
    "\n",
    "# Step 5: \n",
    "\n",
    "A = [mult[i]-1 for i in range(N0)]\n",
    "B = [(factors_no_mult[i]-1) for i in range(N0)]\n",
    "C = [factors_no_mult[i]**A[i] for i in range(N0)]\n",
    "      \n",
    "Euler_phi = 1\n",
    "for i in range(N0):\n",
    "    Euler_phi = Euler_phi*B[i]*C[i]\n",
    "\n",
    "print(\"phi({0}) = {1}\".format(n,Euler_phi))"
   ]
  }
 ],
 "metadata": {
  "kernelspec": {
   "display_name": "Python 3",
   "language": "python",
   "name": "python3"
  },
  "language_info": {
   "codemirror_mode": {
    "name": "ipython",
    "version": 3
   },
   "file_extension": ".py",
   "mimetype": "text/x-python",
   "name": "python",
   "nbconvert_exporter": "python",
   "pygments_lexer": "ipython3",
   "version": "3.11.3"
  }
 },
 "nbformat": 4,
 "nbformat_minor": 5
}
