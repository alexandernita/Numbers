{
 "cells": [
  {
   "cell_type": "markdown",
   "id": "28b4c4d3",
   "metadata": {},
   "source": [
    "This notebook concerns prime and coprime numbers less than a given positive $n\\in\\mathbb{N}$ of your choosing.  \n",
    "* For example, if $n=5$, there are three primes $p = 2, 3, 5$ in the interval $[2,5]$, and four numbers $m = 1, 2, 3, 4$ coprime to $n=5$ in the intervsl $[1,5]$.\n",
    "* If $n=10$, there are four primes, $p=2, 3, 5, 7$ in the interval $[2,10]$, and four numbers $m = 1, 3, 7, 9$ coprime to $n=10$ in the intervsl $[1,10]$ \n",
    "\n",
    "The number $k$ of numbers $m\\in [1,n]$ coprime to $n$, satisfying by definition $\\gcd(m,n)=1$, is the value of **Euler's $\\varphi$ function**,\n",
    "\n",
    "$$\n",
    "\\varphi(n)\\ =\\ k\\ \\stackrel{\\text{def}}{=}\\ |\\{m\\in [1,n]:\\gcd(m,n)=1\\}|\n",
    "$$\n",
    "\n",
    "Below, we write functions to compute each of the lists, primes and coprimes, less than a given $n$.  \n",
    "\n",
    "First, however, we write a small function to format the outputs."
   ]
  },
  {
   "cell_type": "code",
   "execution_count": 10,
   "id": "780cbb0f",
   "metadata": {},
   "outputs": [],
   "source": [
    "# define prinout format function, rows length 10, width 4 digits\n",
    "################################################################\n",
    "def print_rows(x,modulus=10):\n",
    "    for i,a in enumerate(x,start=1):\n",
    "        print(f\"{a: <4} \", end=\"\")\n",
    "        if i % modulus == 0:\n",
    "            print()\n",
    "    print()"
   ]
  },
  {
   "cell_type": "markdown",
   "id": "d26e3382",
   "metadata": {},
   "source": [
    "Now let's list all primes $p\\in [2,n]$ and all the coprimes $m\\in [1,n]$.  We begin by formatting the title of the output."
   ]
  },
  {
   "cell_type": "code",
   "execution_count": 11,
   "id": "ac886ff9",
   "metadata": {},
   "outputs": [
    {
     "name": "stdout",
     "output_type": "stream",
     "text": [
      "\n",
      "\n",
      "--------------------------------------------------\n",
      "    We find the number of primes p less than    \n",
      "     or equal to a  given natural number n.     \n",
      "\n",
      "      Euler's phi function counts how many      \n",
      "     natural numbers m between 1 and n are      \n",
      "          coprime to n, gcd(m,n) = 1.           \n",
      "--------------------------------------------------\n"
     ]
    }
   ],
   "source": [
    "import numpy as np\n",
    "\n",
    "# format the prompt\n",
    "\n",
    "print()\n",
    "text0 = \"We find the number of primes p less than\"\n",
    "text1 = \"or equal to a  given natural number n.\"\n",
    "print()\n",
    "print(\"--------------------------------------------------\")\n",
    "print('{:^48s}'.format(text0))\n",
    "print('{:^48s}'.format(text1))\n",
    "print()\n",
    "text2 = \"Euler's phi function counts how many\"\n",
    "text3 = \"natural numbers m between 1 and n are \"\n",
    "text3b = \"coprime to n, gcd(m,n) = 1.\"\n",
    "print('{:^48s}'.format(text2))\n",
    "print('{:^48s}'.format(text3))\n",
    "print('{:^48s}'.format(text3b))\n",
    "print(\"--------------------------------------------------\")"
   ]
  },
  {
   "cell_type": "markdown",
   "id": "5983af7e",
   "metadata": {},
   "source": [
    "Input the number $n$. *(I input $n=1000$ when I ran it)*"
   ]
  },
  {
   "cell_type": "code",
   "execution_count": 12,
   "id": "3fefc998",
   "metadata": {},
   "outputs": [
    {
     "name": "stdout",
     "output_type": "stream",
     "text": [
      "\n",
      "Enter a positive integer n, and we'll list all\n",
      "primes p <= n, as well as all k <= n relatively\n"
     ]
    }
   ],
   "source": [
    "# input n\n",
    "\n",
    "text3c = \"Enter a positive integer n, and we'll list all\"\n",
    "text3d = \"primes p <= n, as well as all k <= n relatively\"\n",
    "print()\n",
    "print('{:<}'.format(text3c))\n",
    "print('{:<}'.format(text3d))\n",
    "N = int(input(\"prime to n.\\n\\n\"))"
   ]
  },
  {
   "cell_type": "markdown",
   "id": "3b442c99",
   "metadata": {},
   "source": [
    "Compute the prime and coprime lists."
   ]
  },
  {
   "cell_type": "code",
   "execution_count": null,
   "id": "7298db82",
   "metadata": {},
   "outputs": [
    {
     "name": "stdout",
     "output_type": "stream",
     "text": [
      "\n",
      "There Are k = 168 Primes p in the Interval [2,1000]\n",
      "--------------------------------------------------\n",
      "2    3    5    7    11   13   17   19   23   29   \n",
      "31   37   41   43   47   53   59   61   67   71   \n",
      "73   79   83   89   97   101  103  107  109  113  \n",
      "127  131  137  139  149  151  157  163  167  173  \n",
      "179  181  191  193  197  199  211  223  227  229  \n",
      "233  239  241  251  257  263  269  271  277  281  \n",
      "283  293  307  311  313  317  331  337  347  349  \n",
      "353  359  367  373  379  383  389  397  401  409  \n",
      "419  421  431  433  439  443  449  457  461  463  \n",
      "467  479  487  491  499  503  509  521  523  541  \n",
      "547  557  563  569  571  577  587  593  599  601  \n",
      "607  613  617  619  631  641  643  647  653  659  \n",
      "661  673  677  683  691  701  709  719  727  733  \n",
      "739  743  751  757  761  769  773  787  797  809  \n",
      "811  821  823  827  829  839  853  857  859  863  \n",
      "877  881  883  887  907  911  919  929  937  941  \n",
      "947  953  967  971  977  983  991  997  \n",
      "\n",
      "     We also list here all phi(1000) = 400      \n",
      "numbers m in [1,1000] which are coprime to 1000.\n",
      "---------------------------------------------------\n",
      "1    3    7    9    11   13   17   19   21   23   \n",
      "27   29   31   33   37   39   41   43   47   49   \n",
      "51   53   57   59   61   63   67   69   71   73   \n",
      "77   79   81   83   87   89   91   93   97   99   \n",
      "101  103  107  109  111  113  117  119  121  123  \n",
      "127  129  131  133  137  139  141  143  147  149  \n",
      "151  153  157  159  161  163  167  169  171  173  \n",
      "177  179  181  183  187  189  191  193  197  199  \n",
      "201  203  207  209  211  213  217  219  221  223  \n",
      "227  229  231  233  237  239  241  243  247  249  \n",
      "251  253  257  259  261  263  267  269  271  273  \n",
      "277  279  281  283  287  289  291  293  297  299  \n",
      "301  303  307  309  311  313  317  319  321  323  \n",
      "327  329  331  333  337  339  341  343  347  349  \n",
      "351  353  357  359  361  363  367  369  371  373  \n",
      "377  379  381  383  387  389  391  393  397  399  \n",
      "401  403  407  409  411  413  417  419  421  423  \n",
      "427  429  431  433  437  439  441  443  447  449  \n",
      "451  453  457  459  461  463  467  469  471  473  \n",
      "477  479  481  483  487  489  491  493  497  499  \n",
      "501  503  507  509  511  513  517  519  521  523  \n",
      "527  529  531  533  537  539  541  543  547  549  \n",
      "551  553  557  559  561  563  567  569  571  573  \n",
      "577  579  581  583  587  589  591  593  597  599  \n",
      "601  603  607  609  611  613  617  619  621  623  \n",
      "627  629  631  633  637  639  641  643  647  649  \n",
      "651  653  657  659  661  663  667  669  671  673  \n",
      "677  679  681  683  687  689  691  693  697  699  \n",
      "701  703  707  709  711  713  717  719  721  723  \n",
      "727  729  731  733  737  739  741  743  747  749  \n",
      "751  753  757  759  761  763  767  769  771  773  \n",
      "777  779  781  783  787  789  791  793  797  799  \n",
      "801  803  807  809  811  813  817  819  821  823  \n",
      "827  829  831  833  837  839  841  843  847  849  \n",
      "851  853  857  859  861  863  867  869  871  873  \n",
      "877  879  881  883  887  889  891  893  897  899  \n",
      "901  903  907  909  911  913  917  919  921  923  \n",
      "927  929  931  933  937  939  941  943  947  949  \n",
      "951  953  957  959  961  963  967  969  971  973  \n",
      "977  979  981  983  987  989  991  993  997  999  \n",
      "\n"
     ]
    }
   ],
   "source": [
    "# list the primes p <= n\n",
    "\n",
    "P = []\n",
    "\n",
    "for n in range(2,N+1):\n",
    "    k = 2\n",
    "    while k in range(2,n) and n % k != 0:\n",
    "        k = k+1\n",
    "    if k == n:\n",
    "        P.append(n)\n",
    "\n",
    "# print out the primes \n",
    "\n",
    "n = len(P)\n",
    "text1 = \"There Are k = {0} Primes p in the Interval [2,{1}]\".format(n,N)\n",
    "print()\n",
    "print('{:^48s}'.format(text1))\n",
    "print(\"--------------------------------------------------\")\n",
    "\n",
    "print_rows(P)\n",
    "\n",
    "# list the coprimes \n",
    "\n",
    "Q = []\n",
    "for n in range(1,N+1):\n",
    "    if np.gcd(n,N) == 1:\n",
    "        Q.append(n)\n",
    "    phi = len(Q)\n",
    "\n",
    "# print out the coprimes\n",
    "\n",
    "text4 = \"We also list here all phi({0}) = {1}\".format(N,phi)\n",
    "text5 = \"numbers m in [1,{0}] which are coprime to {0}.\".format(N)\n",
    "print()\n",
    "print('{:^48s}'.format(text4))\n",
    "print('{:^48s}'.format(text5))\n",
    "print(\"--------------------------------------------------\")\n",
    "print_rows(Q)"
   ]
  }
 ],
 "metadata": {
  "kernelspec": {
   "display_name": "Python 3",
   "language": "python",
   "name": "python3"
  },
  "language_info": {
   "codemirror_mode": {
    "name": "ipython",
    "version": 3
   },
   "file_extension": ".py",
   "mimetype": "text/x-python",
   "name": "python",
   "nbconvert_exporter": "python",
   "pygments_lexer": "ipython3",
   "version": "3.11.3"
  }
 },
 "nbformat": 4,
 "nbformat_minor": 5
}
